{
 "cells": [
  {
   "cell_type": "code",
   "execution_count": 1,
   "metadata": {},
   "outputs": [],
   "source": [
    "from dotenv import load_dotenv\n",
    "import os"
   ]
  },
  {
   "cell_type": "code",
   "execution_count": 5,
   "metadata": {},
   "outputs": [],
   "source": [
    "load_dotenv()\n",
    "\n",
    "snowflake_account = os.getenv(\"SNOWFLAKE_ACCOUNT\")\n",
    "snowflake_user = os.getenv(\"SNOWFLAKE_USER\")\n",
    "snowflake_password = os.getenv(\"SNOWFLAKE_PASSWORD\")"
   ]
  },
  {
   "cell_type": "code",
   "execution_count": 7,
   "metadata": {},
   "outputs": [
    {
     "name": "stdout",
     "output_type": "stream",
     "text": [
      "✅ Connexion établie !\n"
     ]
    }
   ],
   "source": [
    "import snowflake.connector\n",
    "\n",
    "conn = snowflake.connector.connect(\n",
    "    account=snowflake_account,\n",
    "    user=snowflake_user,\n",
    "    password=snowflake_password\n",
    ")\n",
    "\n",
    "print(\"✅ Connexion établie !\")"
   ]
  },
  {
   "cell_type": "code",
   "execution_count": 8,
   "metadata": {},
   "outputs": [
    {
     "name": "stdout",
     "output_type": "stream",
     "text": [
      "✅ Version de Snowflake : 9.30.0\n"
     ]
    }
   ],
   "source": [
    "with conn.cursor() as cur:\n",
    "    cur.execute(\"SELECT CURRENT_VERSION()\")\n",
    "    version = cur.fetchone()\n",
    "    print(f\"✅ Version de Snowflake : {version[0]}\")"
   ]
  }
 ],
 "metadata": {
  "kernelspec": {
   "display_name": "snwflk-dbt",
   "language": "python",
   "name": "python3"
  },
  "language_info": {
   "codemirror_mode": {
    "name": "ipython",
    "version": 3
   },
   "file_extension": ".py",
   "mimetype": "text/x-python",
   "name": "python",
   "nbconvert_exporter": "python",
   "pygments_lexer": "ipython3",
   "version": "3.11.13"
  }
 },
 "nbformat": 4,
 "nbformat_minor": 2
}
