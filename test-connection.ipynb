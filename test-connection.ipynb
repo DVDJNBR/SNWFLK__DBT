{
 "cells": [
  {
   "cell_type": "code",
   "execution_count": 23,
   "metadata": {},
   "outputs": [],
   "source": [
    "from dotenv import load_dotenv\n",
    "import os\n",
    "import re\n",
    "from pathlib import Path"
   ]
  },
  {
   "cell_type": "code",
   "execution_count": 2,
   "metadata": {},
   "outputs": [],
   "source": [
    "load_dotenv()\n",
    "\n",
    "snowflake_account = os.getenv(\"SNOWFLAKE_ACCOUNT\")\n",
    "snowflake_user = os.getenv(\"SNOWFLAKE_USER\")\n",
    "snowflake_password = os.getenv(\"SNOWFLAKE_PASSWORD\")"
   ]
  },
  {
   "cell_type": "code",
   "execution_count": 3,
   "metadata": {},
   "outputs": [],
   "source": [
    "import snowflake.connector\n",
    "\n",
    "conn = snowflake.connector.connect(\n",
    "    account=snowflake_account,\n",
    "    user=snowflake_user,\n",
    "    password=snowflake_password\n",
    ")\n",
    "\n"
   ]
  },
  {
   "cell_type": "code",
   "execution_count": 20,
   "metadata": {},
   "outputs": [
    {
     "name": "stdout",
     "output_type": "stream",
     "text": [
      "✅ Version de Snowflake : [('9.30.0',)]\n"
     ]
    }
   ],
   "source": [
    "with conn.cursor() as cur:\n",
    "    \n",
    "    cur.execute(\"SELECT CURRENT_VERSION();\")\n",
    "    version = cur.fetchall()\n",
    "    print(f\"✅ Version de Snowflake : {version}\")"
   ]
  },
  {
   "cell_type": "code",
   "execution_count": null,
   "metadata": {},
   "outputs": [
    {
     "data": {
      "text/plain": [
       "\"USE ROLE NYCTRANSFORM; CREATE WAREHOUSE IF NOT EXISTS NYC_TAXI_DB    WAREHOUSE_SIZE = 'MEDIUM'    AUTO_SUSPEND = 60    AUTO_RESUME = TRUE; GRANT OPERATE ON NYC_TAXI_DB TO NYCTRANSFORM; CREATE USER IF NOT EXISTS NYCDBT    PASSWORD = {?}    LOGIN_NAME = 'NYCDBT'    MUST_CHANGE_PASSWORD = FALSE    DEFAULT_ROLE = 'NYCTRANSFORM'    DEFAULT_WAREHOUSE = 'NYC_TAXI_DB'    DEFAULT_NAMESPACE = 'NYC_TAXI_DB.RAW'; CREATE DATABASE IF NOT EXISTS NYC_TAXI_DB; CREATE SCHEMA IF NOT EXISTS NYC_TAXI_DB.RAW;\""
      ]
     },
     "execution_count": 34,
     "metadata": {},
     "output_type": "execute_result"
    }
   ],
   "source": [
    "sf_dir = Path('SQL/Snowflake/')\n",
    "\n",
    "\n",
    "with conn.cursor() as cur:\n",
    "    logger.info(\"Exécution create_role.sql\")\n",
    "    with open(sf_dir / 'create_role.sql', 'r') as f:\n",
    "        for result in cur.execute_stream(f):\n",
    "            logger.debug(f\"Requête exécutée: {result.rowcount} lignes affectées\")\n",
    "    logger.success(\"create_role.sql OK\")\n",
    "with open(sf_dir / 'create_infrastructure.sql', 'r') as create_infrastructure:\n",
    "    create_infrastructure_sql = ' '.join([query.replace('\\n','')+';' for query in create_infrastructure.read().split(';')][:-1])\n",
    "create_infrastructure_sql"
   ]
  }
 ],
 "metadata": {
  "kernelspec": {
   "display_name": "snwflk-dbt",
   "language": "python",
   "name": "python3"
  },
  "language_info": {
   "codemirror_mode": {
    "name": "ipython",
    "version": 3
   },
   "file_extension": ".py",
   "mimetype": "text/x-python",
   "name": "python",
   "nbconvert_exporter": "python",
   "pygments_lexer": "ipython3",
   "version": "3.11.13"
  }
 },
 "nbformat": 4,
 "nbformat_minor": 2
}
